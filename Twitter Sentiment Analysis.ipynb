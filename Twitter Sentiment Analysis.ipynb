{
 "cells": [
  {
   "cell_type": "markdown",
   "id": "de0e0f42",
   "metadata": {},
   "source": [
    "# Project Pipeline"
   ]
  },
  {
   "cell_type": "markdown",
   "id": "3e67f31b",
   "metadata": {},
   "source": [
    "- Import Necessary Dependencies\n",
    "- Read and Load the Dataset\n",
    "- Exploratory Data Analysis\n",
    "- Data Visualization of Tagret Variables\n",
    "- Data Preprocessing\n",
    "- Splitting our Data into Train and Test Subset\n",
    "- Transforming Dataset using TF-IDF Vectorizer\n",
    "- Function for Model Evaluation\n",
    "- Model Building\n",
    "- Conclusion "
   ]
  },
  {
   "cell_type": "markdown",
   "id": "a9c59465",
   "metadata": {},
   "source": [
    "# Import Necessary Dependencies"
   ]
  },
  {
   "cell_type": "markdown",
   "id": "70a9c49f",
   "metadata": {},
   "source": [
    "## Step-1: Import Necessary Dependencies"
   ]
  },
  {
   "cell_type": "code",
   "execution_count": 1,
   "id": "a1e3ca4c",
   "metadata": {},
   "outputs": [],
   "source": [
    "#utilities\n",
    "import re\n",
    "import numpy as np\n",
    "import pandas as pd\n",
    "\n",
    "#plotting\n",
    "import seaborn as sns\n",
    "import matplotlib.pyplot as plt\n",
    "#nltk\n",
    "from nltk.stem import WordNetLemmatizer\n",
    "#sklearn\n",
    "from sklearn.svm import LinearSVC\n",
    "from sklearn.naive_bayes import BernoulliNB\n",
    "from sklearn.linear_model import LogisticRegression\n",
    "from sklearn.model_selection import train_test_split\n",
    "from sklearn.feature_extraction.text import TfidfVectorizer\n",
    "from sklearn.metrics import confusion_matrix,classification_report\n",
    "#warnings\n",
    "import warnings\n",
    "warnings.filterwarnings('ignore')"
   ]
  },
  {
   "cell_type": "markdown",
   "id": "bf51c23e",
   "metadata": {},
   "source": [
    "## Step-2: Read and load the dataset"
   ]
  },
  {
   "cell_type": "code",
   "execution_count": 2,
   "id": "fd369532",
   "metadata": {},
   "outputs": [
    {
     "data": {
      "text/html": [
       "<div>\n",
       "<style scoped>\n",
       "    .dataframe tbody tr th:only-of-type {\n",
       "        vertical-align: middle;\n",
       "    }\n",
       "\n",
       "    .dataframe tbody tr th {\n",
       "        vertical-align: top;\n",
       "    }\n",
       "\n",
       "    .dataframe thead th {\n",
       "        text-align: right;\n",
       "    }\n",
       "</style>\n",
       "<table border=\"1\" class=\"dataframe\">\n",
       "  <thead>\n",
       "    <tr style=\"text-align: right;\">\n",
       "      <th></th>\n",
       "      <th>target</th>\n",
       "      <th>ids</th>\n",
       "      <th>date</th>\n",
       "      <th>flag</th>\n",
       "      <th>user</th>\n",
       "      <th>text</th>\n",
       "    </tr>\n",
       "  </thead>\n",
       "  <tbody>\n",
       "    <tr>\n",
       "      <th>0</th>\n",
       "      <td>0</td>\n",
       "      <td>1467810369</td>\n",
       "      <td>Mon Apr 06 22:19:45 PDT 2009</td>\n",
       "      <td>NO_QUERY</td>\n",
       "      <td>_TheSpecialOne_</td>\n",
       "      <td>@switchfoot http://twitpic.com/2y1zl - Awww, t...</td>\n",
       "    </tr>\n",
       "    <tr>\n",
       "      <th>1</th>\n",
       "      <td>0</td>\n",
       "      <td>1467810672</td>\n",
       "      <td>Mon Apr 06 22:19:49 PDT 2009</td>\n",
       "      <td>NO_QUERY</td>\n",
       "      <td>scotthamilton</td>\n",
       "      <td>is upset that he can't update his Facebook by ...</td>\n",
       "    </tr>\n",
       "    <tr>\n",
       "      <th>2</th>\n",
       "      <td>0</td>\n",
       "      <td>1467810917</td>\n",
       "      <td>Mon Apr 06 22:19:53 PDT 2009</td>\n",
       "      <td>NO_QUERY</td>\n",
       "      <td>mattycus</td>\n",
       "      <td>@Kenichan I dived many times for the ball. Man...</td>\n",
       "    </tr>\n",
       "    <tr>\n",
       "      <th>3</th>\n",
       "      <td>0</td>\n",
       "      <td>1467811184</td>\n",
       "      <td>Mon Apr 06 22:19:57 PDT 2009</td>\n",
       "      <td>NO_QUERY</td>\n",
       "      <td>ElleCTF</td>\n",
       "      <td>my whole body feels itchy and like its on fire</td>\n",
       "    </tr>\n",
       "    <tr>\n",
       "      <th>4</th>\n",
       "      <td>0</td>\n",
       "      <td>1467811193</td>\n",
       "      <td>Mon Apr 06 22:19:57 PDT 2009</td>\n",
       "      <td>NO_QUERY</td>\n",
       "      <td>Karoli</td>\n",
       "      <td>@nationwideclass no, it's not behaving at all....</td>\n",
       "    </tr>\n",
       "  </tbody>\n",
       "</table>\n",
       "</div>"
      ],
      "text/plain": [
       "   target         ids                          date      flag  \\\n",
       "0       0  1467810369  Mon Apr 06 22:19:45 PDT 2009  NO_QUERY   \n",
       "1       0  1467810672  Mon Apr 06 22:19:49 PDT 2009  NO_QUERY   \n",
       "2       0  1467810917  Mon Apr 06 22:19:53 PDT 2009  NO_QUERY   \n",
       "3       0  1467811184  Mon Apr 06 22:19:57 PDT 2009  NO_QUERY   \n",
       "4       0  1467811193  Mon Apr 06 22:19:57 PDT 2009  NO_QUERY   \n",
       "\n",
       "              user                                               text  \n",
       "0  _TheSpecialOne_  @switchfoot http://twitpic.com/2y1zl - Awww, t...  \n",
       "1    scotthamilton  is upset that he can't update his Facebook by ...  \n",
       "2         mattycus  @Kenichan I dived many times for the ball. Man...  \n",
       "3          ElleCTF    my whole body feels itchy and like its on fire   \n",
       "4           Karoli  @nationwideclass no, it's not behaving at all....  "
      ]
     },
     "execution_count": 2,
     "metadata": {},
     "output_type": "execute_result"
    }
   ],
   "source": [
    "df = pd.read_csv('Downloads/Sentiment140.csv',encoding='ISO-8859-1',names=['target','ids','date','flag','user','text'])\n",
    "df.head()"
   ]
  },
  {
   "cell_type": "markdown",
   "id": "d614b530",
   "metadata": {},
   "source": [
    "## Step-3: Exploratory Data Analysis"
   ]
  },
  {
   "cell_type": "markdown",
   "id": "e28b8dd7",
   "metadata": {},
   "source": [
    "### 3.1: Top 5 records of the data"
   ]
  },
  {
   "cell_type": "code",
   "execution_count": 3,
   "id": "092a5afc",
   "metadata": {},
   "outputs": [
    {
     "data": {
      "text/html": [
       "<div>\n",
       "<style scoped>\n",
       "    .dataframe tbody tr th:only-of-type {\n",
       "        vertical-align: middle;\n",
       "    }\n",
       "\n",
       "    .dataframe tbody tr th {\n",
       "        vertical-align: top;\n",
       "    }\n",
       "\n",
       "    .dataframe thead th {\n",
       "        text-align: right;\n",
       "    }\n",
       "</style>\n",
       "<table border=\"1\" class=\"dataframe\">\n",
       "  <thead>\n",
       "    <tr style=\"text-align: right;\">\n",
       "      <th></th>\n",
       "      <th>target</th>\n",
       "      <th>ids</th>\n",
       "      <th>date</th>\n",
       "      <th>flag</th>\n",
       "      <th>user</th>\n",
       "      <th>text</th>\n",
       "    </tr>\n",
       "  </thead>\n",
       "  <tbody>\n",
       "    <tr>\n",
       "      <th>0</th>\n",
       "      <td>0</td>\n",
       "      <td>1467810369</td>\n",
       "      <td>Mon Apr 06 22:19:45 PDT 2009</td>\n",
       "      <td>NO_QUERY</td>\n",
       "      <td>_TheSpecialOne_</td>\n",
       "      <td>@switchfoot http://twitpic.com/2y1zl - Awww, t...</td>\n",
       "    </tr>\n",
       "    <tr>\n",
       "      <th>1</th>\n",
       "      <td>0</td>\n",
       "      <td>1467810672</td>\n",
       "      <td>Mon Apr 06 22:19:49 PDT 2009</td>\n",
       "      <td>NO_QUERY</td>\n",
       "      <td>scotthamilton</td>\n",
       "      <td>is upset that he can't update his Facebook by ...</td>\n",
       "    </tr>\n",
       "    <tr>\n",
       "      <th>2</th>\n",
       "      <td>0</td>\n",
       "      <td>1467810917</td>\n",
       "      <td>Mon Apr 06 22:19:53 PDT 2009</td>\n",
       "      <td>NO_QUERY</td>\n",
       "      <td>mattycus</td>\n",
       "      <td>@Kenichan I dived many times for the ball. Man...</td>\n",
       "    </tr>\n",
       "    <tr>\n",
       "      <th>3</th>\n",
       "      <td>0</td>\n",
       "      <td>1467811184</td>\n",
       "      <td>Mon Apr 06 22:19:57 PDT 2009</td>\n",
       "      <td>NO_QUERY</td>\n",
       "      <td>ElleCTF</td>\n",
       "      <td>my whole body feels itchy and like its on fire</td>\n",
       "    </tr>\n",
       "    <tr>\n",
       "      <th>4</th>\n",
       "      <td>0</td>\n",
       "      <td>1467811193</td>\n",
       "      <td>Mon Apr 06 22:19:57 PDT 2009</td>\n",
       "      <td>NO_QUERY</td>\n",
       "      <td>Karoli</td>\n",
       "      <td>@nationwideclass no, it's not behaving at all....</td>\n",
       "    </tr>\n",
       "  </tbody>\n",
       "</table>\n",
       "</div>"
      ],
      "text/plain": [
       "   target         ids                          date      flag  \\\n",
       "0       0  1467810369  Mon Apr 06 22:19:45 PDT 2009  NO_QUERY   \n",
       "1       0  1467810672  Mon Apr 06 22:19:49 PDT 2009  NO_QUERY   \n",
       "2       0  1467810917  Mon Apr 06 22:19:53 PDT 2009  NO_QUERY   \n",
       "3       0  1467811184  Mon Apr 06 22:19:57 PDT 2009  NO_QUERY   \n",
       "4       0  1467811193  Mon Apr 06 22:19:57 PDT 2009  NO_QUERY   \n",
       "\n",
       "              user                                               text  \n",
       "0  _TheSpecialOne_  @switchfoot http://twitpic.com/2y1zl - Awww, t...  \n",
       "1    scotthamilton  is upset that he can't update his Facebook by ...  \n",
       "2         mattycus  @Kenichan I dived many times for the ball. Man...  \n",
       "3          ElleCTF    my whole body feels itchy and like its on fire   \n",
       "4           Karoli  @nationwideclass no, it's not behaving at all....  "
      ]
     },
     "execution_count": 3,
     "metadata": {},
     "output_type": "execute_result"
    }
   ],
   "source": [
    "df.head()"
   ]
  },
  {
   "cell_type": "markdown",
   "id": "62dcefcd",
   "metadata": {},
   "source": [
    "### 3.2: Columns/features in data"
   ]
  },
  {
   "cell_type": "code",
   "execution_count": 4,
   "id": "2b1d2179",
   "metadata": {},
   "outputs": [
    {
     "data": {
      "text/plain": [
       "Index(['target', 'ids', 'date', 'flag', 'user', 'text'], dtype='object')"
      ]
     },
     "execution_count": 4,
     "metadata": {},
     "output_type": "execute_result"
    }
   ],
   "source": [
    "df.columns"
   ]
  },
  {
   "cell_type": "markdown",
   "id": "8f000f43",
   "metadata": {},
   "source": [
    "### 3.3: Length of the dataset"
   ]
  },
  {
   "cell_type": "code",
   "execution_count": 5,
   "id": "cbda2ed7",
   "metadata": {},
   "outputs": [
    {
     "data": {
      "text/plain": [
       "1600000"
      ]
     },
     "execution_count": 5,
     "metadata": {},
     "output_type": "execute_result"
    }
   ],
   "source": [
    "len(df)"
   ]
  },
  {
   "cell_type": "markdown",
   "id": "efdd59ac",
   "metadata": {},
   "source": [
    "### 3.4: Shape of the data"
   ]
  },
  {
   "cell_type": "code",
   "execution_count": 6,
   "id": "179ba3c8",
   "metadata": {},
   "outputs": [
    {
     "data": {
      "text/plain": [
       "(1600000, 6)"
      ]
     },
     "execution_count": 6,
     "metadata": {},
     "output_type": "execute_result"
    }
   ],
   "source": [
    "df.shape"
   ]
  },
  {
   "cell_type": "markdown",
   "id": "81008395",
   "metadata": {},
   "source": [
    "### 3.5: Data Information"
   ]
  },
  {
   "cell_type": "code",
   "execution_count": 7,
   "id": "9b6a9de8",
   "metadata": {},
   "outputs": [
    {
     "name": "stdout",
     "output_type": "stream",
     "text": [
      "<class 'pandas.core.frame.DataFrame'>\n",
      "RangeIndex: 1600000 entries, 0 to 1599999\n",
      "Data columns (total 6 columns):\n",
      " #   Column  Non-Null Count    Dtype \n",
      "---  ------  --------------    ----- \n",
      " 0   target  1600000 non-null  int64 \n",
      " 1   ids     1600000 non-null  int64 \n",
      " 2   date    1600000 non-null  object\n",
      " 3   flag    1600000 non-null  object\n",
      " 4   user    1600000 non-null  object\n",
      " 5   text    1600000 non-null  object\n",
      "dtypes: int64(2), object(4)\n",
      "memory usage: 73.2+ MB\n"
     ]
    }
   ],
   "source": [
    "df.info()"
   ]
  },
  {
   "cell_type": "markdown",
   "id": "ae041332",
   "metadata": {},
   "source": [
    "### 3.6: Datatypes of all columns "
   ]
  },
  {
   "cell_type": "code",
   "execution_count": 8,
   "id": "6c340de4",
   "metadata": {},
   "outputs": [
    {
     "data": {
      "text/plain": [
       "target     int64\n",
       "ids        int64\n",
       "date      object\n",
       "flag      object\n",
       "user      object\n",
       "text      object\n",
       "dtype: object"
      ]
     },
     "execution_count": 8,
     "metadata": {},
     "output_type": "execute_result"
    }
   ],
   "source": [
    "df.dtypes"
   ]
  },
  {
   "cell_type": "markdown",
   "id": "96946dbb",
   "metadata": {},
   "source": [
    "### 3.7: Checking for null values"
   ]
  },
  {
   "cell_type": "code",
   "execution_count": 9,
   "id": "9b383118",
   "metadata": {},
   "outputs": [
    {
     "data": {
      "text/plain": [
       "target    0\n",
       "ids       0\n",
       "date      0\n",
       "flag      0\n",
       "user      0\n",
       "text      0\n",
       "dtype: int64"
      ]
     },
     "execution_count": 9,
     "metadata": {},
     "output_type": "execute_result"
    }
   ],
   "source": [
    "np.sum(df.isnull())"
   ]
  },
  {
   "cell_type": "markdown",
   "id": "2a4ed1c0",
   "metadata": {},
   "source": [
    "### 3.8: Rows and Columns in the dataset"
   ]
  },
  {
   "cell_type": "code",
   "execution_count": 10,
   "id": "ee95a839",
   "metadata": {},
   "outputs": [
    {
     "name": "stdout",
     "output_type": "stream",
     "text": [
      "Count of columns in the data: 6\n",
      "Count of rows in the data: 1600000\n"
     ]
    }
   ],
   "source": [
    "print('Count of columns in the data:',df.shape[1])\n",
    "print('Count of rows in the data:',df.shape[0])"
   ]
  },
  {
   "cell_type": "markdown",
   "id": "da2a0a5b",
   "metadata": {},
   "source": [
    "### 3.9: Check unique Target values"
   ]
  },
  {
   "cell_type": "code",
   "execution_count": 11,
   "id": "6639a20f",
   "metadata": {},
   "outputs": [
    {
     "data": {
      "text/plain": [
       "array([0, 4], dtype=int64)"
      ]
     },
     "execution_count": 11,
     "metadata": {},
     "output_type": "execute_result"
    }
   ],
   "source": [
    "df['target'].unique()"
   ]
  },
  {
   "cell_type": "markdown",
   "id": "6ebdfb52",
   "metadata": {},
   "source": [
    "### 3.10: Checking number of target values with their count"
   ]
  },
  {
   "cell_type": "code",
   "execution_count": 12,
   "id": "b2a31d28",
   "metadata": {},
   "outputs": [
    {
     "data": {
      "text/plain": [
       "0    800000\n",
       "4    800000\n",
       "Name: target, dtype: int64"
      ]
     },
     "execution_count": 12,
     "metadata": {},
     "output_type": "execute_result"
    }
   ],
   "source": [
    "df['target'].value_counts()"
   ]
  },
  {
   "cell_type": "markdown",
   "id": "6f4b81ef",
   "metadata": {},
   "source": [
    "## Step-4: Data Visualization of Target Variables"
   ]
  },
  {
   "cell_type": "code",
   "execution_count": 13,
   "id": "b13a4eef",
   "metadata": {},
   "outputs": [
    {
     "data": {
      "image/png": "[encoded data removed]",
      "text/plain": [
       "<Figure size 720x360 with 1 Axes>"
      ]
     },
     "metadata": {
      "needs_background": "light"
     },
     "output_type": "display_data"
    }
   ],
   "source": [
    "#Plotting the distribution for dataset\n",
    "plt.figure(figsize=(10,5))\n",
    "plt.bar(list(['Negative','Positive']),list(df['target'].value_counts()),color=['red','green'])\n",
    "plt.title('Distribution of data')\n",
    "plt.xlabel('Target')\n",
    "plt.show()"
   ]
  },
  {
   "cell_type": "code",
   "execution_count": 14,
   "id": "d2d663cb",
   "metadata": {},
   "outputs": [],
   "source": [
    "#Storing data in lists\n",
    "text, sentiment = list(df['text']),list(df['target'])"
   ]
  },
  {
   "cell_type": "code",
   "execution_count": 15,
   "id": "c8fb2cf7",
   "metadata": {},
   "outputs": [
    {
     "data": {
      "text/plain": [
       "lost_dog           549\n",
       "webwoke            345\n",
       "tweetpet           310\n",
       "SallytheShizzle    281\n",
       "VioletsCRUK        279\n",
       "                  ... \n",
       "67trinity            1\n",
       "Sibby                1\n",
       "mAnyA_15             1\n",
       "49ersfan111          1\n",
       "bpbabe               1\n",
       "Name: user, Length: 659775, dtype: int64"
      ]
     },
     "execution_count": 15,
     "metadata": {},
     "output_type": "execute_result"
    }
   ],
   "source": [
    "df['user'].value_counts()"
   ]
  },
  {
   "cell_type": "code",
   "execution_count": 16,
   "id": "4fc79510",
   "metadata": {},
   "outputs": [
    {
     "data": {
      "text/plain": [
       "[]"
      ]
     },
     "execution_count": 16,
     "metadata": {},
     "output_type": "execute_result"
    },
    {
     "data": {
      "image/png": "[encoded data removed]",
      "text/plain": [
       "<Figure size 1080x504 with 1 Axes>"
      ]
     },
     "metadata": {
      "needs_background": "light"
     },
     "output_type": "display_data"
    }
   ],
   "source": [
    "#Top 5 users with their number of tweets\n",
    "plt.figure(figsize=(15,7))\n",
    "plt.bar(list(df['user'].value_counts().keys()[0:5]),list(df['user'].value_counts()[0:5]))\n",
    "plt.plot()"
   ]
  },
  {
   "cell_type": "markdown",
   "id": "a07a8aeb",
   "metadata": {},
   "source": [
    "## Step-5: Data Preprocessing"
   ]
  },
  {
   "cell_type": "markdown",
   "id": "6acb8b68",
   "metadata": {},
   "source": [
    "### 5.1: Selecting text and target column for further analysis"
   ]
  },
  {
   "cell_type": "code",
   "execution_count": 17,
   "id": "4e6a956a",
   "metadata": {},
   "outputs": [],
   "source": [
    "data = df[['text','target']]"
   ]
  },
  {
   "cell_type": "markdown",
   "id": "90876eb2",
   "metadata": {},
   "source": [
    "### 5.2: Replacing values to ease understanding"
   ]
  },
  {
   "cell_type": "code",
   "execution_count": 18,
   "id": "1d39de30",
   "metadata": {},
   "outputs": [],
   "source": [
    "data['target'] = data['target'].replace(4,1)"
   ]
  },
  {
   "cell_type": "markdown",
   "id": "ffb56529",
   "metadata": {},
   "source": [
    "### 5.3: Print Unique values of target variables"
   ]
  },
  {
   "cell_type": "code",
   "execution_count": 19,
   "id": "d7061db1",
   "metadata": {},
   "outputs": [
    {
     "data": {
      "text/plain": [
       "array([0, 1], dtype=int64)"
      ]
     },
     "execution_count": 19,
     "metadata": {},
     "output_type": "execute_result"
    }
   ],
   "source": [
    "data['target'].unique()"
   ]
  },
  {
   "cell_type": "markdown",
   "id": "37901452",
   "metadata": {},
   "source": [
    "### 5.4: Separating positive and negative tweets"
   ]
  },
  {
   "cell_type": "code",
   "execution_count": 20,
   "id": "2e37a899",
   "metadata": {},
   "outputs": [],
   "source": [
    "data_pos = data[data['target']==1]\n",
    "data_neg = data[data['target']==0]"
   ]
  },
  {
   "cell_type": "markdown",
   "id": "92ab7fd9",
   "metadata": {},
   "source": [
    "### 5.5: Limiting or Dataset"
   ]
  },
  {
   "cell_type": "code",
   "execution_count": 21,
   "id": "595b859e",
   "metadata": {},
   "outputs": [],
   "source": [
    "data_pos = data_pos.iloc[:20000]\n",
    "data_neg = data_neg.iloc[:20000]"
   ]
  },
  {
   "cell_type": "markdown",
   "id": "de23354b",
   "metadata": {},
   "source": [
    "### 5.6: Combining positive and negative tweets"
   ]
  },
  {
   "cell_type": "code",
   "execution_count": 22,
   "id": "57d52384",
   "metadata": {},
   "outputs": [],
   "source": [
    "dataset = pd.concat([data_pos,data_neg])"
   ]
  },
  {
   "cell_type": "markdown",
   "id": "e2ccc01a",
   "metadata": {},
   "source": [
    "### 5.7: Making statement text in lower case"
   ]
  },
  {
   "cell_type": "code",
   "execution_count": 23,
   "id": "15ff9ed4",
   "metadata": {},
   "outputs": [
    {
     "data": {
      "text/plain": [
       "19995    not much time off this weekend, work trip to m...\n",
       "19996                            one more day of holidays \n",
       "19997    feeling so down right now .. i hate you damn h...\n",
       "19998    geez,i hv to read the whole book of personalit...\n",
       "19999    i threw my sign at donnie and he bent over to ...\n",
       "Name: text, dtype: object"
      ]
     },
     "execution_count": 23,
     "metadata": {},
     "output_type": "execute_result"
    }
   ],
   "source": [
    "dataset['text'] = dataset['text'].str.lower()\n",
    "dataset['text'].tail()"
   ]
  },
  {
   "cell_type": "markdown",
   "id": "4b5c3bf9",
   "metadata": {},
   "source": [
    "### 5.8: Defining set containing all stopwords in English"
   ]
  },
  {
   "cell_type": "code",
   "execution_count": 24,
   "id": "96934af4",
   "metadata": {},
   "outputs": [],
   "source": [
    "stopwordlist = ['a', 'about', 'above', 'after', 'again', 'ain', 'all', 'am', 'an',\n",
    "             'and','any','are', 'as', 'at', 'be', 'because', 'been', 'before',\n",
    "             'being', 'below', 'between','both', 'by', 'can', 'd', 'did', 'do',\n",
    "             'does', 'doing', 'down', 'during', 'each','few', 'for', 'from',\n",
    "             'further', 'had', 'has', 'have', 'having', 'he', 'her', 'here',\n",
    "             'hers', 'herself', 'him', 'himself', 'his', 'how', 'i', 'if', 'in',\n",
    "             'into','is', 'it', 'its', 'itself', 'just', 'll', 'm', 'ma',\n",
    "             'me', 'more', 'most','my', 'myself', 'now', 'o', 'of', 'on', 'once',\n",
    "             'only', 'or', 'other', 'our', 'ours','ourselves', 'out', 'own', 're','s', 'same', 'she', \"shes\", 'should', \"shouldve\",'so', 'some', 'such',\n",
    "             't', 'than', 'that', \"thatll\", 'the', 'their', 'theirs', 'them',\n",
    "             'themselves', 'then', 'there', 'these', 'they', 'this', 'those',\n",
    "             'through', 'to', 'too','under', 'until', 'up', 've', 'very', 'was',\n",
    "             'we', 'were', 'what', 'when', 'where','which','while', 'who', 'whom',\n",
    "             'why', 'will', 'with', 'won', 'y', 'you', \"youd\",\"youll\", \"youre\",\"youve\", 'your', 'yours', 'yourself', 'yourselves']"
   ]
  },
  {
   "cell_type": "markdown",
   "id": "5900488c",
   "metadata": {},
   "source": [
    "### 5.9: Cleaning and removing the above stopwords list from the text tweet"
   ]
  },
  {
   "cell_type": "code",
   "execution_count": 25,
   "id": "cccd7240",
   "metadata": {},
   "outputs": [
    {
     "data": {
      "text/plain": [
       "800000                love @health4uandpets u guys r best!!\n",
       "800001    im meeting one besties tonight! cant wait!! - ...\n",
       "800002    @darealsunisakim thanks twitter add, sunisa! g...\n",
       "800003    sick really cheap hurts much eat real food plu...\n",
       "800004                      @lovesbrooklyn2 effect everyone\n",
       "Name: text, dtype: object"
      ]
     },
     "execution_count": 25,
     "metadata": {},
     "output_type": "execute_result"
    }
   ],
   "source": [
    "STOPWORDS = set(stopwordlist)\n",
    "def cleaning_stopwords(text):\n",
    "    return \" \".join([word for word in str(text).split() if word not in STOPWORDS])\n",
    "dataset['text'] = dataset['text'].apply(lambda text: cleaning_stopwords(text))\n",
    "dataset['text'].head()"
   ]
  },
  {
   "cell_type": "markdown",
   "id": "714f72b1",
   "metadata": {},
   "source": [
    "### 5.10: Cleaning and removing punctuations"
   ]
  },
  {
   "cell_type": "code",
   "execution_count": 26,
   "id": "15fd168f",
   "metadata": {},
   "outputs": [
    {
     "data": {
      "text/plain": [
       "800000                   love health4uandpets u guys r best\n",
       "800001    im meeting one besties tonight cant wait  girl...\n",
       "800002    darealsunisakim thanks twitter add sunisa got ...\n",
       "800003    sick really cheap hurts much eat real food plu...\n",
       "800004                       lovesbrooklyn2 effect everyone\n",
       "Name: text, dtype: object"
      ]
     },
     "execution_count": 26,
     "metadata": {},
     "output_type": "execute_result"
    }
   ],
   "source": [
    "import string\n",
    "english_punctuations = string.punctuation\n",
    "punctuations_list = english_punctuations\n",
    "def cleaning_punctuations(text):\n",
    "    translator = str.maketrans('', '', punctuations_list)\n",
    "    return text.translate(translator)\n",
    "dataset['text']= dataset['text'].apply(lambda x: cleaning_punctuations(x))\n",
    "dataset['text'].head()"
   ]
  },
  {
   "cell_type": "markdown",
   "id": "f107c477",
   "metadata": {},
   "source": [
    "### 5.11: Cleaning and removing repeated characters"
   ]
  },
  {
   "cell_type": "code",
   "execution_count": 27,
   "id": "66313d83",
   "metadata": {},
   "outputs": [
    {
     "data": {
      "text/plain": [
       "800000                   love health4uandpets u guys r best\n",
       "800001    im meeting one besties tonight cant wait  girl...\n",
       "800002    darealsunisakim thanks twitter add sunisa got ...\n",
       "800003    sick really cheap hurts much eat real food plu...\n",
       "800004                       lovesbrooklyn2 effect everyone\n",
       "Name: text, dtype: object"
      ]
     },
     "execution_count": 27,
     "metadata": {},
     "output_type": "execute_result"
    }
   ],
   "source": [
    "def cleaning_repeating_char(text):\n",
    "    return re.sub(r'(.)1+', r'1', text)\n",
    "dataset['text'] = dataset['text'].apply(lambda x: cleaning_repeating_char(x))\n",
    "dataset['text'].head()"
   ]
  },
  {
   "cell_type": "markdown",
   "id": "0d2bd07f",
   "metadata": {},
   "source": [
    "### 5.12: Cleaning and removing URL's"
   ]
  },
  {
   "cell_type": "code",
   "execution_count": 28,
   "id": "06a95453",
   "metadata": {},
   "outputs": [
    {
     "data": {
      "text/plain": [
       "800000                   love health4uandpets u guys r best\n",
       "800001    im meeting one besties tonight cant wait  girl...\n",
       "800002    darealsunisakim thanks twitter add sunisa got ...\n",
       "800003    sick really cheap hurts much eat real food plu...\n",
       "800004                       lovesbrooklyn2 effect everyone\n",
       "Name: text, dtype: object"
      ]
     },
     "execution_count": 28,
     "metadata": {},
     "output_type": "execute_result"
    }
   ],
   "source": [
    "def cleaning_URLs(data):\n",
    "    return re.sub('((www.[^s]+)|(https?://[^s]+))',' ',data)\n",
    "dataset['text'] = dataset['text'].apply(lambda x: cleaning_URLs(x))\n",
    "dataset['text'].head()"
   ]
  },
  {
   "cell_type": "markdown",
   "id": "d6dd62d5",
   "metadata": {},
   "source": [
    "### 5.13: Cleaning and removing numeric data"
   ]
  },
  {
   "cell_type": "code",
   "execution_count": 29,
   "id": "5cf7b498",
   "metadata": {},
   "outputs": [
    {
     "data": {
      "text/plain": [
       "800000                    love healthuandpets u guys r best\n",
       "800001    im meeting one besties tonight cant wait  girl...\n",
       "800002    darealsunisakim thanks twitter add sunisa got ...\n",
       "800003    sick really cheap hurts much eat real food plu...\n",
       "800004                        lovesbrooklyn effect everyone\n",
       "Name: text, dtype: object"
      ]
     },
     "execution_count": 29,
     "metadata": {},
     "output_type": "execute_result"
    }
   ],
   "source": [
    "def cleaning_numbers(data):\n",
    "    return re.sub('[0-9]+', '', data)\n",
    "dataset['text'] = dataset['text'].apply(lambda x: cleaning_numbers(x))\n",
    "dataset['text'].head()"
   ]
  },
  {
   "cell_type": "markdown",
   "id": "32f59fe5",
   "metadata": {},
   "source": [
    "### 5.14: Getting tokenization of tweet text"
   ]
  },
  {
   "cell_type": "code",
   "execution_count": 30,
   "id": "8b87c727",
   "metadata": {},
   "outputs": [],
   "source": [
    "from nltk.tokenize import word_tokenize\n",
    "def token(data):\n",
    "    return word_tokenize(data)\n",
    "dataset['text'] = dataset['text'].apply(lambda x: token(x))"
   ]
  },
  {
   "cell_type": "code",
   "execution_count": 31,
   "id": "4cab9037",
   "metadata": {},
   "outputs": [
    {
     "data": {
      "text/plain": [
       "800000             [love, healthuandpets, u, guys, r, best]\n",
       "800001    [im, meeting, one, besties, tonight, cant, wai...\n",
       "800002    [darealsunisakim, thanks, twitter, add, sunisa...\n",
       "800003    [sick, really, cheap, hurts, much, eat, real, ...\n",
       "800004                    [lovesbrooklyn, effect, everyone]\n",
       "Name: text, dtype: object"
      ]
     },
     "execution_count": 31,
     "metadata": {},
     "output_type": "execute_result"
    }
   ],
   "source": [
    "dataset['text'].head()"
   ]
  },
  {
   "cell_type": "markdown",
   "id": "6ed89990",
   "metadata": {},
   "source": [
    "### 5.15: Applying Stemming"
   ]
  },
  {
   "cell_type": "code",
   "execution_count": 32,
   "id": "400ed95d",
   "metadata": {},
   "outputs": [
    {
     "data": {
      "text/plain": [
       "800000               [love, healthuandpet, u, guy, r, best]\n",
       "800001    [im, meet, one, besti, tonight, cant, wait, gi...\n",
       "800002    [darealsunisakim, thank, twitter, add, sunisa,...\n",
       "800003    [sick, realli, cheap, hurt, much, eat, real, f...\n",
       "800004                     [lovesbrooklyn, effect, everyon]\n",
       "Name: text, dtype: object"
      ]
     },
     "execution_count": 32,
     "metadata": {},
     "output_type": "execute_result"
    }
   ],
   "source": [
    "from nltk import PorterStemmer\n",
    "ps = PorterStemmer()\n",
    "def stemming(tokenized_text):\n",
    "    text = [ps.stem(text) for text in tokenized_text]\n",
    "    return text\n",
    "dataset['text'] = dataset['text'].apply(lambda x:stemming(x))\n",
    "dataset['text'].head()"
   ]
  },
  {
   "cell_type": "markdown",
   "id": "2f95ca43",
   "metadata": {},
   "source": [
    "### 5.16: Applying Lemmatizer"
   ]
  },
  {
   "cell_type": "code",
   "execution_count": 33,
   "id": "ee17e201",
   "metadata": {},
   "outputs": [
    {
     "data": {
      "text/plain": [
       "800000               [love, healthuandpet, u, guy, r, best]\n",
       "800001    [im, meet, one, besti, tonight, cant, wait, gi...\n",
       "800002    [darealsunisakim, thank, twitter, add, sunisa,...\n",
       "800003    [sick, realli, cheap, hurt, much, eat, real, f...\n",
       "800004                     [lovesbrooklyn, effect, everyon]\n",
       "Name: text, dtype: object"
      ]
     },
     "execution_count": 33,
     "metadata": {},
     "output_type": "execute_result"
    }
   ],
   "source": [
    "from nltk import WordNetLemmatizer\n",
    "wn = WordNetLemmatizer()\n",
    "def lemmatizing(stemmed_text):\n",
    "    text = [wn.lemmatize(text) for text in stemmed_text]\n",
    "    return text\n",
    "dataset['text'] = dataset['text'].apply(lambda x:lemmatizing(x))\n",
    "dataset['text'].head()"
   ]
  },
  {
   "cell_type": "markdown",
   "id": "5f6e5b47",
   "metadata": {},
   "source": [
    "### 5.17: Separating input feature label"
   ]
  },
  {
   "cell_type": "code",
   "execution_count": 34,
   "id": "c2841cf8",
   "metadata": {},
   "outputs": [],
   "source": [
    "x = data.text\n",
    "y = data.target"
   ]
  },
  {
   "cell_type": "code",
   "execution_count": 35,
   "id": "18c3e8f8",
   "metadata": {},
   "outputs": [],
   "source": [
    "data_neg = data['text'][:800000]"
   ]
  },
  {
   "cell_type": "code",
   "execution_count": 36,
   "id": "e838945a",
   "metadata": {},
   "outputs": [
    {
     "data": {
      "text/plain": [
       "0         @switchfoot http://twitpic.com/2y1zl - Awww, t...\n",
       "1         is upset that he can't update his Facebook by ...\n",
       "2         @Kenichan I dived many times for the ball. Man...\n",
       "3           my whole body feels itchy and like its on fire \n",
       "4         @nationwideclass no, it's not behaving at all....\n",
       "                                ...                        \n",
       "799995    Sick  Spending my day laying in bed listening ...\n",
       "799996                                      Gmail is down? \n",
       "799997                        rest in peace Farrah! So sad \n",
       "799998    @Eric_Urbane Sounds like a rival is flagging y...\n",
       "799999    has to resit exams over summer...  wishes he w...\n",
       "Name: text, Length: 800000, dtype: object"
      ]
     },
     "execution_count": 36,
     "metadata": {},
     "output_type": "execute_result"
    }
   ],
   "source": [
    "data_neg"
   ]
  },
  {
   "cell_type": "code",
   "execution_count": 40,
   "id": "20efbc3f",
   "metadata": {},
   "outputs": [
    {
     "name": "stdout",
     "output_type": "stream",
     "text": [
      "Enter the tweet number you want to analyze:36\n"
     ]
    }
   ],
   "source": [
    "arg = int(input(\"Enter the tweet number you want to analyze:\"))"
   ]
  },
  {
   "cell_type": "code",
   "execution_count": 41,
   "id": "ecdf9c8d",
   "metadata": {},
   "outputs": [],
   "source": [
    "neg_tweet = data_neg.tolist()[arg]"
   ]
  },
  {
   "cell_type": "code",
   "execution_count": 42,
   "id": "ba3c74d3",
   "metadata": {},
   "outputs": [
    {
     "name": "stdout",
     "output_type": "stream",
     "text": [
      "['cocomix', 'ill', 'tell', 'ya', 'story', 'later', 'not', 'good', 'day', 'ill', 'workin', 'like', 'three', 'hours']\n"
     ]
    },
    {
     "data": {
      "text/plain": [
       "[]"
      ]
     },
     "execution_count": 42,
     "metadata": {},
     "output_type": "execute_result"
    },
    {
     "data": {
      "image/png": "[encoded data removed]",
      "text/plain": [
       "<Figure size 2160x360 with 1 Axes>"
      ]
     },
     "metadata": {
      "needs_background": "light"
     },
     "output_type": "display_data"
    }
   ],
   "source": [
    "neg_lst = [] \n",
    "neg_tweet = cleaning_stopwords(neg_tweet)\n",
    "neg_tweet = cleaning_punctuations(neg_tweet)\n",
    "neg_tweet = cleaning_URLs(neg_tweet)\n",
    "neg_tweet = cleaning_numbers(neg_tweet)\n",
    "x1 = neg_tweet.split(' ')\n",
    "neg_lst.extend(x1)\n",
    "print(neg_lst)\n",
    "plt.figure(figsize=(30,5))\n",
    "sns.countplot(x=neg_lst)\n",
    "plt.plot()"
   ]
  },
  {
   "cell_type": "code",
   "execution_count": 43,
   "id": "42d08b68",
   "metadata": {},
   "outputs": [],
   "source": [
    "data_pos = data['text'][80000:]"
   ]
  },
  {
   "cell_type": "code",
   "execution_count": 44,
   "id": "9f7b0978",
   "metadata": {},
   "outputs": [
    {
     "data": {
      "text/plain": [
       "80000      Cannot actually keep my eyes open.., I feel li...\n",
       "80001      Home from the show left after Ryan's set... I ...\n",
       "80002      @UncleRUSH sickness, it's bad... Good Luck tho...\n",
       "80003      @jupaman Damn Pablo sorry to hear your trouble...\n",
       "80004      no in two weeks if the meds dont work ill have...\n",
       "                                 ...                        \n",
       "1599995    Just woke up. Having no school is the best fee...\n",
       "1599996    TheWDB.com - Very cool to hear old Walt interv...\n",
       "1599997    Are you ready for your MoJo Makeover? Ask me f...\n",
       "1599998    Happy 38th Birthday to my boo of alll time!!! ...\n",
       "1599999    happy #charitytuesday @theNSPCC @SparksCharity...\n",
       "Name: text, Length: 1520000, dtype: object"
      ]
     },
     "execution_count": 44,
     "metadata": {},
     "output_type": "execute_result"
    }
   ],
   "source": [
    "data_pos"
   ]
  },
  {
   "cell_type": "code",
   "execution_count": 45,
   "id": "d5cfd56d",
   "metadata": {},
   "outputs": [
    {
     "name": "stdout",
     "output_type": "stream",
     "text": [
      "Enter the tweet number you want to analyze:18\n"
     ]
    }
   ],
   "source": [
    "arg = int(input(\"Enter the tweet number you want to analyze:\"))\n",
    "pos_tweet = data_pos.tolist()[arg]"
   ]
  },
  {
   "cell_type": "code",
   "execution_count": 46,
   "id": "73204b3e",
   "metadata": {},
   "outputs": [
    {
     "name": "stdout",
     "output_type": "stream",
     "text": [
      "['I', 'wanna', 'watch', 'BOF', 'Currently', 'eating', '', 'Hjh', 'Maimunah', 'Oh', 'I', 'havent', 'studied', 'thing', 'Bio', 'tomorrow']\n"
     ]
    },
    {
     "data": {
      "text/plain": [
       "[]"
      ]
     },
     "execution_count": 46,
     "metadata": {},
     "output_type": "execute_result"
    },
    {
     "data": {
      "image/png": "[encoded data removed]",
      "text/plain": [
       "<Figure size 2160x360 with 1 Axes>"
      ]
     },
     "metadata": {
      "needs_background": "light"
     },
     "output_type": "display_data"
    }
   ],
   "source": [
    "pos_lst = [] \n",
    "pos_tweet = cleaning_stopwords(pos_tweet)\n",
    "pos_tweet = cleaning_punctuations(pos_tweet)\n",
    "pos_tweet = cleaning_URLs(pos_tweet)\n",
    "pos_tweet = cleaning_numbers(pos_tweet)\n",
    "x2 = pos_tweet.split(' ')\n",
    "pos_lst.extend(x2)\n",
    "print(pos_lst)\n",
    "plt.figure(figsize=(30,5))\n",
    "sns.countplot(x=pos_lst)\n",
    "plt.plot()"
   ]
  },
  {
   "cell_type": "markdown",
   "id": "7baaf152",
   "metadata": {},
   "source": [
    "## Step-6: Splitting our data into train and test subset"
   ]
  },
  {
   "cell_type": "code",
   "execution_count": 47,
   "id": "194f48cf",
   "metadata": {},
   "outputs": [],
   "source": [
    "# Separating the 95% data for training data and 5% for testing data\n",
    "x_train, x_test, y_train, y_test = train_test_split(x,y,test_size = 0.05, random_state =26105111)"
   ]
  },
  {
   "cell_type": "markdown",
   "id": "46fffe5f",
   "metadata": {},
   "source": [
    "## Step-7: Transforming Dataset using TF-IDF Vectorizer"
   ]
  },
  {
   "cell_type": "markdown",
   "id": "ef48c949",
   "metadata": {},
   "source": [
    "### 7.1: Fit the TF-IDF Vectorizer"
   ]
  },
  {
   "cell_type": "code",
   "execution_count": 48,
   "id": "793b66d3",
   "metadata": {},
   "outputs": [
    {
     "name": "stdout",
     "output_type": "stream",
     "text": [
      "No. of feature_words:  500000\n"
     ]
    }
   ],
   "source": [
    "vectoriser = TfidfVectorizer(ngram_range=(1,2), max_features=500000)\n",
    "vectoriser.fit(x_train)\n",
    "print('No. of feature_words: ', len(vectoriser.get_feature_names()))"
   ]
  },
  {
   "cell_type": "markdown",
   "id": "574316c3",
   "metadata": {},
   "source": [
    "### 7.2: Transform the data using TF-IDF Vectorizer "
   ]
  },
  {
   "cell_type": "code",
   "execution_count": 49,
   "id": "ac599788",
   "metadata": {},
   "outputs": [],
   "source": [
    "x_train = vectoriser.transform(x_train)\n",
    "x_test  = vectoriser.transform(x_test)"
   ]
  },
  {
   "cell_type": "markdown",
   "id": "46886cfe",
   "metadata": {},
   "source": [
    "## Step-8: Function for model evaluation "
   ]
  },
  {
   "cell_type": "markdown",
   "id": "4af19b52",
   "metadata": {},
   "source": [
    "- Accuracy Score\n",
    "- Confusion Matrix with Plot\n",
    "- ROC-AUC Curve"
   ]
  },
  {
   "cell_type": "code",
   "execution_count": 50,
   "id": "781c6cfc",
   "metadata": {},
   "outputs": [],
   "source": [
    "def model_Evaluate(model):\n",
    "    # Predict values for Test dataset\n",
    "    y_pred = model.predict(x_test)\n",
    "    # Print the evaluation metrics for the dataset.\n",
    "    print(classification_report(y_test, y_pred))\n",
    "    # Compute and plot the Confusion matrix\n",
    "    cf_matrix = confusion_matrix(y_test, y_pred)\n",
    "    categories = ['Negative','Positive']\n",
    "    group_names = ['True Neg','False Pos', 'False Neg','True Pos']\n",
    "    group_percentages = ['{0:.2%}'.format(value) for value in cf_matrix.flatten() / np.sum(cf_matrix)]\n",
    "    labels = [f'{v1}n{v2}' for v1, v2 in zip(group_names,group_percentages)]\n",
    "    labels = np.asarray(labels).reshape(2,2)\n",
    "    sns.heatmap(cf_matrix, annot = labels, cmap = 'Blues',fmt = '',\n",
    "    xticklabels = categories, yticklabels = categories)\n",
    "    plt.xlabel(\"Predicted values\", fontdict = {'size':14}, labelpad = 10)\n",
    "    plt.ylabel(\"Actual values\" , fontdict = {'size':14}, labelpad = 10)\n",
    "    plt.title (\"Confusion Matrix\", fontdict = {'size':18}, pad = 20)"
   ]
  },
  {
   "cell_type": "markdown",
   "id": "2eceae16",
   "metadata": {},
   "source": [
    "## Step-9: Model building"
   ]
  },
  {
   "cell_type": "markdown",
   "id": "55f1d246",
   "metadata": {},
   "source": [
    "#### In the problem statement we have used three different models respectively :\n",
    "\n",
    "- Bernoulli Naive Bayes\n",
    "- SVM (Support Vector Machine)\n",
    "- Logistic Regression"
   ]
  },
  {
   "cell_type": "markdown",
   "id": "81bccd59",
   "metadata": {},
   "source": [
    "### 8.1: Model-1"
   ]
  },
  {
   "cell_type": "code",
   "execution_count": 51,
   "id": "f9cbc1c3",
   "metadata": {},
   "outputs": [
    {
     "name": "stdout",
     "output_type": "stream",
     "text": [
      "              precision    recall  f1-score   support\n",
      "\n",
      "           0       0.81      0.79      0.80     40100\n",
      "           1       0.80      0.81      0.80     39900\n",
      "\n",
      "    accuracy                           0.80     80000\n",
      "   macro avg       0.80      0.80      0.80     80000\n",
      "weighted avg       0.80      0.80      0.80     80000\n",
      "\n"
     ]
    },
    {
     "data": {
      "image/png": "[encoded data removed]",
      "text/plain": [
       "<Figure size 432x288 with 2 Axes>"
      ]
     },
     "metadata": {
      "needs_background": "light"
     },
     "output_type": "display_data"
    }
   ],
   "source": [
    "BNBmodel = BernoulliNB()\n",
    "BNBmodel.fit(x_train, y_train)\n",
    "model_Evaluate(BNBmodel)\n",
    "y_pred1 = BNBmodel.predict(x_test)"
   ]
  },
  {
   "cell_type": "markdown",
   "id": "b55f2667",
   "metadata": {},
   "source": [
    "### 8.2: Plot the ROC-AUC Curve for model-1 "
   ]
  },
  {
   "cell_type": "code",
   "execution_count": 52,
   "id": "8c5bedf3",
   "metadata": {},
   "outputs": [
    {
     "data": {
      "image/png": "[encoded data removed]",
      "text/plain": [
       "<Figure size 432x288 with 1 Axes>"
      ]
     },
     "metadata": {
      "needs_background": "light"
     },
     "output_type": "display_data"
    }
   ],
   "source": [
    "from sklearn.metrics import roc_curve, auc\n",
    "fpr, tpr, thresholds = roc_curve(y_test, y_pred1)\n",
    "roc_auc = auc(fpr, tpr)\n",
    "plt.figure()\n",
    "plt.plot(fpr, tpr, color='darkorange', lw=1, label='ROC curve (area = %0.2f)' % roc_auc)\n",
    "plt.xlim([0.0, 1.0])\n",
    "plt.ylim([0.0, 1.05])\n",
    "plt.xlabel('False Positive Rate')\n",
    "plt.ylabel('True Positive Rate')\n",
    "plt.title('ROC CURVE')\n",
    "plt.legend(loc=\"lower right\")\n",
    "plt.show()"
   ]
  },
  {
   "cell_type": "markdown",
   "id": "29ee626e",
   "metadata": {},
   "source": [
    "### 8.3: Model-2 "
   ]
  },
  {
   "cell_type": "code",
   "execution_count": 53,
   "id": "bf99b1c2",
   "metadata": {},
   "outputs": [
    {
     "name": "stdout",
     "output_type": "stream",
     "text": [
      "              precision    recall  f1-score   support\n",
      "\n",
      "           0       0.82      0.81      0.81     40100\n",
      "           1       0.81      0.82      0.82     39900\n",
      "\n",
      "    accuracy                           0.82     80000\n",
      "   macro avg       0.82      0.82      0.82     80000\n",
      "weighted avg       0.82      0.82      0.82     80000\n",
      "\n"
     ]
    },
    {
     "data": {
      "image/png": "[encoded data removed]",
      "text/plain": [
       "<Figure size 432x288 with 2 Axes>"
      ]
     },
     "metadata": {
      "needs_background": "light"
     },
     "output_type": "display_data"
    }
   ],
   "source": [
    "SVCmodel = LinearSVC()\n",
    "SVCmodel.fit(x_train, y_train)\n",
    "model_Evaluate(SVCmodel)\n",
    "y_pred2 = SVCmodel.predict(x_test)"
   ]
  },
  {
   "cell_type": "markdown",
   "id": "426706a3",
   "metadata": {},
   "source": [
    "### 8.4: Plot the ROC-AUC Curve for model-2"
   ]
  },
  {
   "cell_type": "code",
   "execution_count": 54,
   "id": "b1f3710a",
   "metadata": {},
   "outputs": [
    {
     "data": {
      "image/png": "[encoded data removed]",
      "text/plain": [
       "<Figure size 432x288 with 1 Axes>"
      ]
     },
     "metadata": {
      "needs_background": "light"
     },
     "output_type": "display_data"
    }
   ],
   "source": [
    "from sklearn.metrics import roc_curve, auc\n",
    "fpr, tpr, thresholds = roc_curve(y_test, y_pred2)\n",
    "roc_auc = auc(fpr, tpr)\n",
    "plt.figure()\n",
    "plt.plot(fpr, tpr, color='darkorange', lw=1, label='ROC curve (area = %0.2f)' % roc_auc)\n",
    "plt.xlim([0.0, 1.0])\n",
    "plt.ylim([0.0, 1.05])\n",
    "plt.xlabel('False Positive Rate')\n",
    "plt.ylabel('True Positive Rate')\n",
    "plt.title('ROC CURVE')\n",
    "plt.legend(loc=\"lower right\")\n",
    "plt.show()"
   ]
  },
  {
   "cell_type": "markdown",
   "id": "0cf6194c",
   "metadata": {},
   "source": [
    "### 8.5: Model-3"
   ]
  },
  {
   "cell_type": "code",
   "execution_count": 55,
   "id": "bbe41a50",
   "metadata": {},
   "outputs": [
    {
     "name": "stdout",
     "output_type": "stream",
     "text": [
      "              precision    recall  f1-score   support\n",
      "\n",
      "           0       0.83      0.82      0.82     40100\n",
      "           1       0.82      0.83      0.83     39900\n",
      "\n",
      "    accuracy                           0.82     80000\n",
      "   macro avg       0.82      0.82      0.82     80000\n",
      "weighted avg       0.82      0.82      0.82     80000\n",
      "\n"
     ]
    },
    {
     "data": {
      "image/png": "[encoded data removed]",
      "text/plain": [
       "<Figure size 432x288 with 2 Axes>"
      ]
     },
     "metadata": {
      "needs_background": "light"
     },
     "output_type": "display_data"
    }
   ],
   "source": [
    "LRmodel = LogisticRegression()\n",
    "LRmodel.fit(x_train, y_train)\n",
    "model_Evaluate(LRmodel)\n",
    "y_pred3 = LRmodel.predict(x_test)"
   ]
  },
  {
   "cell_type": "markdown",
   "id": "cf5628a2",
   "metadata": {},
   "source": [
    "### 8.6: Plot the ROC-AUC Curve for model-3"
   ]
  },
  {
   "cell_type": "code",
   "execution_count": 56,
   "id": "7694332a",
   "metadata": {},
   "outputs": [
    {
     "data": {
      "image/png": "[encoded data removed]",
      "text/plain": [
       "<Figure size 432x288 with 1 Axes>"
      ]
     },
     "metadata": {
      "needs_background": "light"
     },
     "output_type": "display_data"
    }
   ],
   "source": [
    "from sklearn.metrics import roc_curve, auc\n",
    "fpr, tpr, thresholds = roc_curve(y_test, y_pred3)\n",
    "roc_auc = auc(fpr, tpr)\n",
    "plt.figure()\n",
    "plt.plot(fpr, tpr, color='darkorange', lw=1, label='ROC curve (area = %0.2f)' % roc_auc)\n",
    "plt.xlim([0.0, 1.0])\n",
    "plt.ylim([0.0, 1.05])\n",
    "plt.xlabel('False Positive Rate')\n",
    "plt.ylabel('True Positive Rate')\n",
    "plt.title('ROC CURVE')\n",
    "plt.legend(loc=\"lower right\")\n",
    "plt.show()"
   ]
  },
  {
   "cell_type": "markdown",
   "id": "1f75dd99",
   "metadata": {},
   "source": [
    "## Step-10: Conclusion "
   ]
  },
  {
   "cell_type": "markdown",
   "id": "7554d4e3",
   "metadata": {},
   "source": [
    "#### Upon evaluating all the models we can conclude the following details i.e.\n",
    "- Accuracy: As far as the accuracy of the model is concerned Logistic Regression and SVM performs better than Bernoulli Naive Bayes\n",
    "- F1-score: The F1-scores of class 1 and class 0 are:\n",
    "  - (a): For class 0: Bernoulli Naive Bayes(accuracy = 0.80) < SVM (accuracy =0.81) < Logistic Regression (accuracy = 0.82)\n",
    "  - (b): For class 1: Bernoulli Naive Bayes (accuracy = 0.80) < SVM (accuracy = 0.82) < Logistic Regression (accuracy = 0.83)\n",
    "- AUC score: Bernoulli Naive Bayes (area = 0.80) < SVM (area = 0.82) = Logistic Regression (area = 0.82)\n",
    "\n",
    "- We, therefore, conclude that the Logistic Regression is the best model for the above-given dataset.\n",
    "- In our problem statement, Logistic Regression is following the principle of Occam’s Razor which defines that for a particular problem statement if the data has no assumption, then the simplest model works the best. Since our dataset does not have any assumptions and Logistic Regression is a simple model, therefore the concept holds true for the above-mentioned dataset."
   ]
  },
  {
   "cell_type": "code",
   "execution_count": null,
   "id": "024c5288",
   "metadata": {},
   "outputs": [],
   "source": []
  }
 ],
 "metadata": {
  "kernelspec": {
   "display_name": "Python 3 (ipykernel)",
   "language": "python",
   "name": "python3"
  },
  "language_info": {
   "codemirror_mode": {
    "name": "ipython",
    "version": 3
   },
   "file_extension": ".py",
   "mimetype": "text/x-python",
   "name": "python",
   "nbconvert_exporter": "python",
   "pygments_lexer": "ipython3",
   "version": "3.9.7"
  }
 },
 "nbformat": 4,
 "nbformat_minor": 5
}
